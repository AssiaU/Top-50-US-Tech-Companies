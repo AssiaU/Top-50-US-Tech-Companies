{
  "nbformat": 4,
  "nbformat_minor": 0,
  "metadata": {
    "colab": {
      "provenance": []
    },
    "kernelspec": {
      "name": "python3",
      "display_name": "Python 3"
    },
    "language_info": {
      "name": "python"
    }
  },
  "cells": [
    {
      "cell_type": "markdown",
      "source": [
        "##**Top 50 US Tech Companies 2022-2023**\n",
        "\n",
        "Exploratory Data Analysis of the Top 50 US Technology Companies of the 2022-2023 fiscal year.\n",
        "\n",
        "Questions answered through this  analysis.\n",
        "\n",
        "\n",
        "* Which state has the most tech companies on the list?\n",
        "* Sector with the most companies among the list?\n",
        "* Which companies brought in the most revenue?\n",
        "* Which companies are the most valuable on the market.\n",
        "\n",
        "\n"
      ],
      "metadata": {
        "id": "wLhBuHQn-_Nu"
      }
    },
    {
      "cell_type": "markdown",
      "source": [
        "## **Data source**\n",
        "\n",
        "Datahub.io"
      ],
      "metadata": {
        "id": "Qmk6INTpDZWv"
      }
    },
    {
      "cell_type": "markdown",
      "source": [
        "###**Data Description**\n",
        "\n",
        "Company Name - Name of company.\n",
        "\n",
        "Industry- Industry that the company belongs to.\n",
        "\n",
        "Sector- Sector that the company belongs to.\n",
        "\n",
        "HQ State- State where the company's headquarters are.\n",
        "\n",
        "Founding Year - The year the company was founded.\n",
        "\n",
        "Annual Revenue 2022-2023(USD in Billions)- Revenue of the company in the 2022-2023 fiscal year.\n",
        "\n",
        "Market Cap(USD in Trillions) - Market Cap of the company.\n",
        "\n",
        "Stock Name- Company's stock name.\n",
        "\n",
        "Annual Income tax in 2022-2023 - Annual Income tax of the company.\n",
        "\n",
        "Employee Size- number of employees in the company.\n",
        "\n"
      ],
      "metadata": {
        "id": "d7t4SrbeEP4k"
      }
    },
    {
      "cell_type": "markdown",
      "source": [
        "####**Importing necessary libraries.**\n"
      ],
      "metadata": {
        "id": "ycy7qNqsIwHs"
      }
    },
    {
      "cell_type": "code",
      "execution_count": 46,
      "metadata": {
        "id": "cK9kVR0G-ytS"
      },
      "outputs": [],
      "source": [
        "#Libraries to help with reading and manipulating data\n",
        "import pandas as pd\n",
        "import numpy as np"
      ]
    },
    {
      "cell_type": "code",
      "source": [
        "#Libraries to help with data visualization\n",
        "import matplotlib.pyplot as plt\n",
        "import seaborn as sns"
      ],
      "metadata": {
        "id": "mWr4-gs_JNvG"
      },
      "execution_count": 47,
      "outputs": []
    },
    {
      "cell_type": "code",
      "source": [
        "#restricting the float value to 3 decimal places\n",
        "pd.set_option('display.float_format',lambda x:'%.3f' % x)"
      ],
      "metadata": {
        "id": "I3F5XUQAJdxQ"
      },
      "execution_count": 48,
      "outputs": []
    },
    {
      "cell_type": "code",
      "source": [
        "#Access to google drive\n",
        "from google.colab import drive\n",
        "drive.mount('/content/drive')"
      ],
      "metadata": {
        "colab": {
          "base_uri": "https://localhost:8080/"
        },
        "id": "lRZxgYqnJ3jz",
        "outputId": "dee32768-7aff-4f86-a25c-71d7df82f425"
      },
      "execution_count": 49,
      "outputs": [
        {
          "output_type": "stream",
          "name": "stdout",
          "text": [
            "Drive already mounted at /content/drive; to attempt to forcibly remount, call drive.mount(\"/content/drive\", force_remount=True).\n"
          ]
        }
      ]
    },
    {
      "cell_type": "markdown",
      "source": [
        "####**Importing Dataset**"
      ],
      "metadata": {
        "id": "-2L25uArMJbz"
      }
    },
    {
      "cell_type": "code",
      "source": [
        "data=pd.read_csv('/content/drive/MyDrive/Top 50 US Tech Companies 2022 - 2023.csv')"
      ],
      "metadata": {
        "id": "LrqP4uC6KHad"
      },
      "execution_count": 50,
      "outputs": []
    },
    {
      "cell_type": "markdown",
      "source": [
        "####**Understanding and cleaning data**"
      ],
      "metadata": {
        "id": "lB7_ilR3O8bF"
      }
    },
    {
      "cell_type": "markdown",
      "source": [
        "**First and last 5 rows of the dataset**"
      ],
      "metadata": {
        "id": "amGMyGz9POg1"
      }
    },
    {
      "cell_type": "code",
      "source": [
        "#first 5 rows\n",
        "data.head()"
      ],
      "metadata": {
        "colab": {
          "base_uri": "https://localhost:8080/",
          "height": 345
        },
        "id": "04M96vhnMz-b",
        "outputId": "df386e63-5009-40fd-8ba9-ed1c56cd3159"
      },
      "execution_count": 51,
      "outputs": [
        {
          "output_type": "execute_result",
          "data": {
            "text/plain": [
              "            Company Name    Industry                   Sector    HQ State  \\\n",
              "0             Apple Inc.  Technology     Consumer Electronics  California   \n",
              "1  Microsoft Corporation  Technology  Software Infrastructure  Washington   \n",
              "2      Alphabet (Google)  Technology  Software Infrastructure  California   \n",
              "3                 Amazon  Technology     Software Application  Washington   \n",
              "4     NVIDIA Corporation  Technology           Semiconductors  California   \n",
              "\n",
              "   Founding Year  Annual Revenue 2022-2023 (USD in Billions)  \\\n",
              "0           1905                                     387.530   \n",
              "1           1905                                     204.090   \n",
              "2           1905                                     282.830   \n",
              "3           1905                                     513.980   \n",
              "4           1905                                      26.970   \n",
              "\n",
              "   Market Cap (USD in Trillions) Stock Name  \\\n",
              "0                          2.520       AAPL   \n",
              "1                          2.037       MSFT   \n",
              "2                          1.350       GOOG   \n",
              "3                          1.030       AMZN   \n",
              "4                          0.653       NVDA   \n",
              "\n",
              "   Annual Income Tax in 2022-2023 (USD in Billions)  Employee Size  \n",
              "0                                            18.314         164000  \n",
              "1                                            15.139         221000  \n",
              "2                                            11.356         190234  \n",
              "3                                            -3.217        1541000  \n",
              "4                                             0.189          22473  "
            ],
            "text/html": [
              "\n",
              "  <div id=\"df-8b7676b2-4a14-44c3-962c-fa55b4ceae6e\" class=\"colab-df-container\">\n",
              "    <div>\n",
              "<style scoped>\n",
              "    .dataframe tbody tr th:only-of-type {\n",
              "        vertical-align: middle;\n",
              "    }\n",
              "\n",
              "    .dataframe tbody tr th {\n",
              "        vertical-align: top;\n",
              "    }\n",
              "\n",
              "    .dataframe thead th {\n",
              "        text-align: right;\n",
              "    }\n",
              "</style>\n",
              "<table border=\"1\" class=\"dataframe\">\n",
              "  <thead>\n",
              "    <tr style=\"text-align: right;\">\n",
              "      <th></th>\n",
              "      <th>Company Name</th>\n",
              "      <th>Industry</th>\n",
              "      <th>Sector</th>\n",
              "      <th>HQ State</th>\n",
              "      <th>Founding Year</th>\n",
              "      <th>Annual Revenue 2022-2023 (USD in Billions)</th>\n",
              "      <th>Market Cap (USD in Trillions)</th>\n",
              "      <th>Stock Name</th>\n",
              "      <th>Annual Income Tax in 2022-2023 (USD in Billions)</th>\n",
              "      <th>Employee Size</th>\n",
              "    </tr>\n",
              "  </thead>\n",
              "  <tbody>\n",
              "    <tr>\n",
              "      <th>0</th>\n",
              "      <td>Apple Inc.</td>\n",
              "      <td>Technology</td>\n",
              "      <td>Consumer Electronics</td>\n",
              "      <td>California</td>\n",
              "      <td>1905</td>\n",
              "      <td>387.530</td>\n",
              "      <td>2.520</td>\n",
              "      <td>AAPL</td>\n",
              "      <td>18.314</td>\n",
              "      <td>164000</td>\n",
              "    </tr>\n",
              "    <tr>\n",
              "      <th>1</th>\n",
              "      <td>Microsoft Corporation</td>\n",
              "      <td>Technology</td>\n",
              "      <td>Software Infrastructure</td>\n",
              "      <td>Washington</td>\n",
              "      <td>1905</td>\n",
              "      <td>204.090</td>\n",
              "      <td>2.037</td>\n",
              "      <td>MSFT</td>\n",
              "      <td>15.139</td>\n",
              "      <td>221000</td>\n",
              "    </tr>\n",
              "    <tr>\n",
              "      <th>2</th>\n",
              "      <td>Alphabet (Google)</td>\n",
              "      <td>Technology</td>\n",
              "      <td>Software Infrastructure</td>\n",
              "      <td>California</td>\n",
              "      <td>1905</td>\n",
              "      <td>282.830</td>\n",
              "      <td>1.350</td>\n",
              "      <td>GOOG</td>\n",
              "      <td>11.356</td>\n",
              "      <td>190234</td>\n",
              "    </tr>\n",
              "    <tr>\n",
              "      <th>3</th>\n",
              "      <td>Amazon</td>\n",
              "      <td>Technology</td>\n",
              "      <td>Software Application</td>\n",
              "      <td>Washington</td>\n",
              "      <td>1905</td>\n",
              "      <td>513.980</td>\n",
              "      <td>1.030</td>\n",
              "      <td>AMZN</td>\n",
              "      <td>-3.217</td>\n",
              "      <td>1541000</td>\n",
              "    </tr>\n",
              "    <tr>\n",
              "      <th>4</th>\n",
              "      <td>NVIDIA Corporation</td>\n",
              "      <td>Technology</td>\n",
              "      <td>Semiconductors</td>\n",
              "      <td>California</td>\n",
              "      <td>1905</td>\n",
              "      <td>26.970</td>\n",
              "      <td>0.653</td>\n",
              "      <td>NVDA</td>\n",
              "      <td>0.189</td>\n",
              "      <td>22473</td>\n",
              "    </tr>\n",
              "  </tbody>\n",
              "</table>\n",
              "</div>\n",
              "    <div class=\"colab-df-buttons\">\n",
              "\n",
              "  <div class=\"colab-df-container\">\n",
              "    <button class=\"colab-df-convert\" onclick=\"convertToInteractive('df-8b7676b2-4a14-44c3-962c-fa55b4ceae6e')\"\n",
              "            title=\"Convert this dataframe to an interactive table.\"\n",
              "            style=\"display:none;\">\n",
              "\n",
              "  <svg xmlns=\"http://www.w3.org/2000/svg\" height=\"24px\" viewBox=\"0 -960 960 960\">\n",
              "    <path d=\"M120-120v-720h720v720H120Zm60-500h600v-160H180v160Zm220 220h160v-160H400v160Zm0 220h160v-160H400v160ZM180-400h160v-160H180v160Zm440 0h160v-160H620v160ZM180-180h160v-160H180v160Zm440 0h160v-160H620v160Z\"/>\n",
              "  </svg>\n",
              "    </button>\n",
              "\n",
              "  <style>\n",
              "    .colab-df-container {\n",
              "      display:flex;\n",
              "      gap: 12px;\n",
              "    }\n",
              "\n",
              "    .colab-df-convert {\n",
              "      background-color: #E8F0FE;\n",
              "      border: none;\n",
              "      border-radius: 50%;\n",
              "      cursor: pointer;\n",
              "      display: none;\n",
              "      fill: #1967D2;\n",
              "      height: 32px;\n",
              "      padding: 0 0 0 0;\n",
              "      width: 32px;\n",
              "    }\n",
              "\n",
              "    .colab-df-convert:hover {\n",
              "      background-color: #E2EBFA;\n",
              "      box-shadow: 0px 1px 2px rgba(60, 64, 67, 0.3), 0px 1px 3px 1px rgba(60, 64, 67, 0.15);\n",
              "      fill: #174EA6;\n",
              "    }\n",
              "\n",
              "    .colab-df-buttons div {\n",
              "      margin-bottom: 4px;\n",
              "    }\n",
              "\n",
              "    [theme=dark] .colab-df-convert {\n",
              "      background-color: #3B4455;\n",
              "      fill: #D2E3FC;\n",
              "    }\n",
              "\n",
              "    [theme=dark] .colab-df-convert:hover {\n",
              "      background-color: #434B5C;\n",
              "      box-shadow: 0px 1px 3px 1px rgba(0, 0, 0, 0.15);\n",
              "      filter: drop-shadow(0px 1px 2px rgba(0, 0, 0, 0.3));\n",
              "      fill: #FFFFFF;\n",
              "    }\n",
              "  </style>\n",
              "\n",
              "    <script>\n",
              "      const buttonEl =\n",
              "        document.querySelector('#df-8b7676b2-4a14-44c3-962c-fa55b4ceae6e button.colab-df-convert');\n",
              "      buttonEl.style.display =\n",
              "        google.colab.kernel.accessAllowed ? 'block' : 'none';\n",
              "\n",
              "      async function convertToInteractive(key) {\n",
              "        const element = document.querySelector('#df-8b7676b2-4a14-44c3-962c-fa55b4ceae6e');\n",
              "        const dataTable =\n",
              "          await google.colab.kernel.invokeFunction('convertToInteractive',\n",
              "                                                    [key], {});\n",
              "        if (!dataTable) return;\n",
              "\n",
              "        const docLinkHtml = 'Like what you see? Visit the ' +\n",
              "          '<a target=\"_blank\" href=https://colab.research.google.com/notebooks/data_table.ipynb>data table notebook</a>'\n",
              "          + ' to learn more about interactive tables.';\n",
              "        element.innerHTML = '';\n",
              "        dataTable['output_type'] = 'display_data';\n",
              "        await google.colab.output.renderOutput(dataTable, element);\n",
              "        const docLink = document.createElement('div');\n",
              "        docLink.innerHTML = docLinkHtml;\n",
              "        element.appendChild(docLink);\n",
              "      }\n",
              "    </script>\n",
              "  </div>\n",
              "\n",
              "\n",
              "<div id=\"df-5f786748-8fc3-42bf-8534-e1ec7f1337ee\">\n",
              "  <button class=\"colab-df-quickchart\" onclick=\"quickchart('df-5f786748-8fc3-42bf-8534-e1ec7f1337ee')\"\n",
              "            title=\"Suggest charts\"\n",
              "            style=\"display:none;\">\n",
              "\n",
              "<svg xmlns=\"http://www.w3.org/2000/svg\" height=\"24px\"viewBox=\"0 0 24 24\"\n",
              "     width=\"24px\">\n",
              "    <g>\n",
              "        <path d=\"M19 3H5c-1.1 0-2 .9-2 2v14c0 1.1.9 2 2 2h14c1.1 0 2-.9 2-2V5c0-1.1-.9-2-2-2zM9 17H7v-7h2v7zm4 0h-2V7h2v10zm4 0h-2v-4h2v4z\"/>\n",
              "    </g>\n",
              "</svg>\n",
              "  </button>\n",
              "\n",
              "<style>\n",
              "  .colab-df-quickchart {\n",
              "      --bg-color: #E8F0FE;\n",
              "      --fill-color: #1967D2;\n",
              "      --hover-bg-color: #E2EBFA;\n",
              "      --hover-fill-color: #174EA6;\n",
              "      --disabled-fill-color: #AAA;\n",
              "      --disabled-bg-color: #DDD;\n",
              "  }\n",
              "\n",
              "  [theme=dark] .colab-df-quickchart {\n",
              "      --bg-color: #3B4455;\n",
              "      --fill-color: #D2E3FC;\n",
              "      --hover-bg-color: #434B5C;\n",
              "      --hover-fill-color: #FFFFFF;\n",
              "      --disabled-bg-color: #3B4455;\n",
              "      --disabled-fill-color: #666;\n",
              "  }\n",
              "\n",
              "  .colab-df-quickchart {\n",
              "    background-color: var(--bg-color);\n",
              "    border: none;\n",
              "    border-radius: 50%;\n",
              "    cursor: pointer;\n",
              "    display: none;\n",
              "    fill: var(--fill-color);\n",
              "    height: 32px;\n",
              "    padding: 0;\n",
              "    width: 32px;\n",
              "  }\n",
              "\n",
              "  .colab-df-quickchart:hover {\n",
              "    background-color: var(--hover-bg-color);\n",
              "    box-shadow: 0 1px 2px rgba(60, 64, 67, 0.3), 0 1px 3px 1px rgba(60, 64, 67, 0.15);\n",
              "    fill: var(--button-hover-fill-color);\n",
              "  }\n",
              "\n",
              "  .colab-df-quickchart-complete:disabled,\n",
              "  .colab-df-quickchart-complete:disabled:hover {\n",
              "    background-color: var(--disabled-bg-color);\n",
              "    fill: var(--disabled-fill-color);\n",
              "    box-shadow: none;\n",
              "  }\n",
              "\n",
              "  .colab-df-spinner {\n",
              "    border: 2px solid var(--fill-color);\n",
              "    border-color: transparent;\n",
              "    border-bottom-color: var(--fill-color);\n",
              "    animation:\n",
              "      spin 1s steps(1) infinite;\n",
              "  }\n",
              "\n",
              "  @keyframes spin {\n",
              "    0% {\n",
              "      border-color: transparent;\n",
              "      border-bottom-color: var(--fill-color);\n",
              "      border-left-color: var(--fill-color);\n",
              "    }\n",
              "    20% {\n",
              "      border-color: transparent;\n",
              "      border-left-color: var(--fill-color);\n",
              "      border-top-color: var(--fill-color);\n",
              "    }\n",
              "    30% {\n",
              "      border-color: transparent;\n",
              "      border-left-color: var(--fill-color);\n",
              "      border-top-color: var(--fill-color);\n",
              "      border-right-color: var(--fill-color);\n",
              "    }\n",
              "    40% {\n",
              "      border-color: transparent;\n",
              "      border-right-color: var(--fill-color);\n",
              "      border-top-color: var(--fill-color);\n",
              "    }\n",
              "    60% {\n",
              "      border-color: transparent;\n",
              "      border-right-color: var(--fill-color);\n",
              "    }\n",
              "    80% {\n",
              "      border-color: transparent;\n",
              "      border-right-color: var(--fill-color);\n",
              "      border-bottom-color: var(--fill-color);\n",
              "    }\n",
              "    90% {\n",
              "      border-color: transparent;\n",
              "      border-bottom-color: var(--fill-color);\n",
              "    }\n",
              "  }\n",
              "</style>\n",
              "\n",
              "  <script>\n",
              "    async function quickchart(key) {\n",
              "      const quickchartButtonEl =\n",
              "        document.querySelector('#' + key + ' button');\n",
              "      quickchartButtonEl.disabled = true;  // To prevent multiple clicks.\n",
              "      quickchartButtonEl.classList.add('colab-df-spinner');\n",
              "      try {\n",
              "        const charts = await google.colab.kernel.invokeFunction(\n",
              "            'suggestCharts', [key], {});\n",
              "      } catch (error) {\n",
              "        console.error('Error during call to suggestCharts:', error);\n",
              "      }\n",
              "      quickchartButtonEl.classList.remove('colab-df-spinner');\n",
              "      quickchartButtonEl.classList.add('colab-df-quickchart-complete');\n",
              "    }\n",
              "    (() => {\n",
              "      let quickchartButtonEl =\n",
              "        document.querySelector('#df-5f786748-8fc3-42bf-8534-e1ec7f1337ee button');\n",
              "      quickchartButtonEl.style.display =\n",
              "        google.colab.kernel.accessAllowed ? 'block' : 'none';\n",
              "    })();\n",
              "  </script>\n",
              "</div>\n",
              "\n",
              "    </div>\n",
              "  </div>\n"
            ]
          },
          "metadata": {},
          "execution_count": 51
        }
      ]
    },
    {
      "cell_type": "code",
      "source": [
        "#Last 5 rows of the dataset\n",
        "data.tail()"
      ],
      "metadata": {
        "colab": {
          "base_uri": "https://localhost:8080/",
          "height": 328
        },
        "id": "g9YRiHjlPc87",
        "outputId": "5c72fdac-1206-47fc-cdf4-a243a6692f95"
      },
      "execution_count": 52,
      "outputs": [
        {
          "output_type": "execute_result",
          "data": {
            "text/plain": [
              "               Company Name    Industry                Sector        HQ State  \\\n",
              "45          GlobalFoundries  Technology        Semiconductors        New York   \n",
              "46           IQVIA Holdings  Technology  Software Application  North Carolina   \n",
              "47  Marvell Technology Inc.  Technology        Semiconductors      California   \n",
              "48   Dell Technologies Inc.  Technology     Computer Hardware           Texas   \n",
              "49                  HP Inc.  Technology     Computer Hardware      California   \n",
              "\n",
              "    Founding Year  Annual Revenue 2022-2023 (USD in Billions)  \\\n",
              "45           1905                                       8.100   \n",
              "46           1905                                      14.410   \n",
              "47           1905                                       5.910   \n",
              "48           1905                                     102.300   \n",
              "49           1905                                      59.780   \n",
              "\n",
              "    Market Cap (USD in Trillions) Stock Name  \\\n",
              "45                          0.038        GFS   \n",
              "46                          0.037        IQV   \n",
              "47                          0.035       MRVL   \n",
              "48                          0.028       DELL   \n",
              "49                          0.028        HPQ   \n",
              "\n",
              "    Annual Income Tax in 2022-2023 (USD in Billions)  Employee Size  \n",
              "45                                             0.086          14600  \n",
              "46                                             0.260          85000  \n",
              "47                                             0.249           6695  \n",
              "48                                             0.981         133000  \n",
              "49                                             1.238          51000  "
            ],
            "text/html": [
              "\n",
              "  <div id=\"df-339b8a90-a5d1-4ff8-8156-b870628d12a1\" class=\"colab-df-container\">\n",
              "    <div>\n",
              "<style scoped>\n",
              "    .dataframe tbody tr th:only-of-type {\n",
              "        vertical-align: middle;\n",
              "    }\n",
              "\n",
              "    .dataframe tbody tr th {\n",
              "        vertical-align: top;\n",
              "    }\n",
              "\n",
              "    .dataframe thead th {\n",
              "        text-align: right;\n",
              "    }\n",
              "</style>\n",
              "<table border=\"1\" class=\"dataframe\">\n",
              "  <thead>\n",
              "    <tr style=\"text-align: right;\">\n",
              "      <th></th>\n",
              "      <th>Company Name</th>\n",
              "      <th>Industry</th>\n",
              "      <th>Sector</th>\n",
              "      <th>HQ State</th>\n",
              "      <th>Founding Year</th>\n",
              "      <th>Annual Revenue 2022-2023 (USD in Billions)</th>\n",
              "      <th>Market Cap (USD in Trillions)</th>\n",
              "      <th>Stock Name</th>\n",
              "      <th>Annual Income Tax in 2022-2023 (USD in Billions)</th>\n",
              "      <th>Employee Size</th>\n",
              "    </tr>\n",
              "  </thead>\n",
              "  <tbody>\n",
              "    <tr>\n",
              "      <th>45</th>\n",
              "      <td>GlobalFoundries</td>\n",
              "      <td>Technology</td>\n",
              "      <td>Semiconductors</td>\n",
              "      <td>New York</td>\n",
              "      <td>1905</td>\n",
              "      <td>8.100</td>\n",
              "      <td>0.038</td>\n",
              "      <td>GFS</td>\n",
              "      <td>0.086</td>\n",
              "      <td>14600</td>\n",
              "    </tr>\n",
              "    <tr>\n",
              "      <th>46</th>\n",
              "      <td>IQVIA Holdings</td>\n",
              "      <td>Technology</td>\n",
              "      <td>Software Application</td>\n",
              "      <td>North Carolina</td>\n",
              "      <td>1905</td>\n",
              "      <td>14.410</td>\n",
              "      <td>0.037</td>\n",
              "      <td>IQV</td>\n",
              "      <td>0.260</td>\n",
              "      <td>85000</td>\n",
              "    </tr>\n",
              "    <tr>\n",
              "      <th>47</th>\n",
              "      <td>Marvell Technology Inc.</td>\n",
              "      <td>Technology</td>\n",
              "      <td>Semiconductors</td>\n",
              "      <td>California</td>\n",
              "      <td>1905</td>\n",
              "      <td>5.910</td>\n",
              "      <td>0.035</td>\n",
              "      <td>MRVL</td>\n",
              "      <td>0.249</td>\n",
              "      <td>6695</td>\n",
              "    </tr>\n",
              "    <tr>\n",
              "      <th>48</th>\n",
              "      <td>Dell Technologies Inc.</td>\n",
              "      <td>Technology</td>\n",
              "      <td>Computer Hardware</td>\n",
              "      <td>Texas</td>\n",
              "      <td>1905</td>\n",
              "      <td>102.300</td>\n",
              "      <td>0.028</td>\n",
              "      <td>DELL</td>\n",
              "      <td>0.981</td>\n",
              "      <td>133000</td>\n",
              "    </tr>\n",
              "    <tr>\n",
              "      <th>49</th>\n",
              "      <td>HP Inc.</td>\n",
              "      <td>Technology</td>\n",
              "      <td>Computer Hardware</td>\n",
              "      <td>California</td>\n",
              "      <td>1905</td>\n",
              "      <td>59.780</td>\n",
              "      <td>0.028</td>\n",
              "      <td>HPQ</td>\n",
              "      <td>1.238</td>\n",
              "      <td>51000</td>\n",
              "    </tr>\n",
              "  </tbody>\n",
              "</table>\n",
              "</div>\n",
              "    <div class=\"colab-df-buttons\">\n",
              "\n",
              "  <div class=\"colab-df-container\">\n",
              "    <button class=\"colab-df-convert\" onclick=\"convertToInteractive('df-339b8a90-a5d1-4ff8-8156-b870628d12a1')\"\n",
              "            title=\"Convert this dataframe to an interactive table.\"\n",
              "            style=\"display:none;\">\n",
              "\n",
              "  <svg xmlns=\"http://www.w3.org/2000/svg\" height=\"24px\" viewBox=\"0 -960 960 960\">\n",
              "    <path d=\"M120-120v-720h720v720H120Zm60-500h600v-160H180v160Zm220 220h160v-160H400v160Zm0 220h160v-160H400v160ZM180-400h160v-160H180v160Zm440 0h160v-160H620v160ZM180-180h160v-160H180v160Zm440 0h160v-160H620v160Z\"/>\n",
              "  </svg>\n",
              "    </button>\n",
              "\n",
              "  <style>\n",
              "    .colab-df-container {\n",
              "      display:flex;\n",
              "      gap: 12px;\n",
              "    }\n",
              "\n",
              "    .colab-df-convert {\n",
              "      background-color: #E8F0FE;\n",
              "      border: none;\n",
              "      border-radius: 50%;\n",
              "      cursor: pointer;\n",
              "      display: none;\n",
              "      fill: #1967D2;\n",
              "      height: 32px;\n",
              "      padding: 0 0 0 0;\n",
              "      width: 32px;\n",
              "    }\n",
              "\n",
              "    .colab-df-convert:hover {\n",
              "      background-color: #E2EBFA;\n",
              "      box-shadow: 0px 1px 2px rgba(60, 64, 67, 0.3), 0px 1px 3px 1px rgba(60, 64, 67, 0.15);\n",
              "      fill: #174EA6;\n",
              "    }\n",
              "\n",
              "    .colab-df-buttons div {\n",
              "      margin-bottom: 4px;\n",
              "    }\n",
              "\n",
              "    [theme=dark] .colab-df-convert {\n",
              "      background-color: #3B4455;\n",
              "      fill: #D2E3FC;\n",
              "    }\n",
              "\n",
              "    [theme=dark] .colab-df-convert:hover {\n",
              "      background-color: #434B5C;\n",
              "      box-shadow: 0px 1px 3px 1px rgba(0, 0, 0, 0.15);\n",
              "      filter: drop-shadow(0px 1px 2px rgba(0, 0, 0, 0.3));\n",
              "      fill: #FFFFFF;\n",
              "    }\n",
              "  </style>\n",
              "\n",
              "    <script>\n",
              "      const buttonEl =\n",
              "        document.querySelector('#df-339b8a90-a5d1-4ff8-8156-b870628d12a1 button.colab-df-convert');\n",
              "      buttonEl.style.display =\n",
              "        google.colab.kernel.accessAllowed ? 'block' : 'none';\n",
              "\n",
              "      async function convertToInteractive(key) {\n",
              "        const element = document.querySelector('#df-339b8a90-a5d1-4ff8-8156-b870628d12a1');\n",
              "        const dataTable =\n",
              "          await google.colab.kernel.invokeFunction('convertToInteractive',\n",
              "                                                    [key], {});\n",
              "        if (!dataTable) return;\n",
              "\n",
              "        const docLinkHtml = 'Like what you see? Visit the ' +\n",
              "          '<a target=\"_blank\" href=https://colab.research.google.com/notebooks/data_table.ipynb>data table notebook</a>'\n",
              "          + ' to learn more about interactive tables.';\n",
              "        element.innerHTML = '';\n",
              "        dataTable['output_type'] = 'display_data';\n",
              "        await google.colab.output.renderOutput(dataTable, element);\n",
              "        const docLink = document.createElement('div');\n",
              "        docLink.innerHTML = docLinkHtml;\n",
              "        element.appendChild(docLink);\n",
              "      }\n",
              "    </script>\n",
              "  </div>\n",
              "\n",
              "\n",
              "<div id=\"df-67e884b8-09bc-4a7d-963f-5381ed6c9e89\">\n",
              "  <button class=\"colab-df-quickchart\" onclick=\"quickchart('df-67e884b8-09bc-4a7d-963f-5381ed6c9e89')\"\n",
              "            title=\"Suggest charts\"\n",
              "            style=\"display:none;\">\n",
              "\n",
              "<svg xmlns=\"http://www.w3.org/2000/svg\" height=\"24px\"viewBox=\"0 0 24 24\"\n",
              "     width=\"24px\">\n",
              "    <g>\n",
              "        <path d=\"M19 3H5c-1.1 0-2 .9-2 2v14c0 1.1.9 2 2 2h14c1.1 0 2-.9 2-2V5c0-1.1-.9-2-2-2zM9 17H7v-7h2v7zm4 0h-2V7h2v10zm4 0h-2v-4h2v4z\"/>\n",
              "    </g>\n",
              "</svg>\n",
              "  </button>\n",
              "\n",
              "<style>\n",
              "  .colab-df-quickchart {\n",
              "      --bg-color: #E8F0FE;\n",
              "      --fill-color: #1967D2;\n",
              "      --hover-bg-color: #E2EBFA;\n",
              "      --hover-fill-color: #174EA6;\n",
              "      --disabled-fill-color: #AAA;\n",
              "      --disabled-bg-color: #DDD;\n",
              "  }\n",
              "\n",
              "  [theme=dark] .colab-df-quickchart {\n",
              "      --bg-color: #3B4455;\n",
              "      --fill-color: #D2E3FC;\n",
              "      --hover-bg-color: #434B5C;\n",
              "      --hover-fill-color: #FFFFFF;\n",
              "      --disabled-bg-color: #3B4455;\n",
              "      --disabled-fill-color: #666;\n",
              "  }\n",
              "\n",
              "  .colab-df-quickchart {\n",
              "    background-color: var(--bg-color);\n",
              "    border: none;\n",
              "    border-radius: 50%;\n",
              "    cursor: pointer;\n",
              "    display: none;\n",
              "    fill: var(--fill-color);\n",
              "    height: 32px;\n",
              "    padding: 0;\n",
              "    width: 32px;\n",
              "  }\n",
              "\n",
              "  .colab-df-quickchart:hover {\n",
              "    background-color: var(--hover-bg-color);\n",
              "    box-shadow: 0 1px 2px rgba(60, 64, 67, 0.3), 0 1px 3px 1px rgba(60, 64, 67, 0.15);\n",
              "    fill: var(--button-hover-fill-color);\n",
              "  }\n",
              "\n",
              "  .colab-df-quickchart-complete:disabled,\n",
              "  .colab-df-quickchart-complete:disabled:hover {\n",
              "    background-color: var(--disabled-bg-color);\n",
              "    fill: var(--disabled-fill-color);\n",
              "    box-shadow: none;\n",
              "  }\n",
              "\n",
              "  .colab-df-spinner {\n",
              "    border: 2px solid var(--fill-color);\n",
              "    border-color: transparent;\n",
              "    border-bottom-color: var(--fill-color);\n",
              "    animation:\n",
              "      spin 1s steps(1) infinite;\n",
              "  }\n",
              "\n",
              "  @keyframes spin {\n",
              "    0% {\n",
              "      border-color: transparent;\n",
              "      border-bottom-color: var(--fill-color);\n",
              "      border-left-color: var(--fill-color);\n",
              "    }\n",
              "    20% {\n",
              "      border-color: transparent;\n",
              "      border-left-color: var(--fill-color);\n",
              "      border-top-color: var(--fill-color);\n",
              "    }\n",
              "    30% {\n",
              "      border-color: transparent;\n",
              "      border-left-color: var(--fill-color);\n",
              "      border-top-color: var(--fill-color);\n",
              "      border-right-color: var(--fill-color);\n",
              "    }\n",
              "    40% {\n",
              "      border-color: transparent;\n",
              "      border-right-color: var(--fill-color);\n",
              "      border-top-color: var(--fill-color);\n",
              "    }\n",
              "    60% {\n",
              "      border-color: transparent;\n",
              "      border-right-color: var(--fill-color);\n",
              "    }\n",
              "    80% {\n",
              "      border-color: transparent;\n",
              "      border-right-color: var(--fill-color);\n",
              "      border-bottom-color: var(--fill-color);\n",
              "    }\n",
              "    90% {\n",
              "      border-color: transparent;\n",
              "      border-bottom-color: var(--fill-color);\n",
              "    }\n",
              "  }\n",
              "</style>\n",
              "\n",
              "  <script>\n",
              "    async function quickchart(key) {\n",
              "      const quickchartButtonEl =\n",
              "        document.querySelector('#' + key + ' button');\n",
              "      quickchartButtonEl.disabled = true;  // To prevent multiple clicks.\n",
              "      quickchartButtonEl.classList.add('colab-df-spinner');\n",
              "      try {\n",
              "        const charts = await google.colab.kernel.invokeFunction(\n",
              "            'suggestCharts', [key], {});\n",
              "      } catch (error) {\n",
              "        console.error('Error during call to suggestCharts:', error);\n",
              "      }\n",
              "      quickchartButtonEl.classList.remove('colab-df-spinner');\n",
              "      quickchartButtonEl.classList.add('colab-df-quickchart-complete');\n",
              "    }\n",
              "    (() => {\n",
              "      let quickchartButtonEl =\n",
              "        document.querySelector('#df-67e884b8-09bc-4a7d-963f-5381ed6c9e89 button');\n",
              "      quickchartButtonEl.style.display =\n",
              "        google.colab.kernel.accessAllowed ? 'block' : 'none';\n",
              "    })();\n",
              "  </script>\n",
              "</div>\n",
              "\n",
              "    </div>\n",
              "  </div>\n"
            ]
          },
          "metadata": {},
          "execution_count": 52
        }
      ]
    },
    {
      "cell_type": "markdown",
      "source": [
        "**Checking for missing values in the data**"
      ],
      "metadata": {
        "id": "V2I00EImPuPJ"
      }
    },
    {
      "cell_type": "code",
      "source": [
        "data.isnull().sum()"
      ],
      "metadata": {
        "colab": {
          "base_uri": "https://localhost:8080/"
        },
        "id": "DNLMUOVmPngp",
        "outputId": "04a94b5a-6460-4505-a506-cdca98807644"
      },
      "execution_count": 53,
      "outputs": [
        {
          "output_type": "execute_result",
          "data": {
            "text/plain": [
              "Company Name                                        0\n",
              "Industry                                            0\n",
              "Sector                                              0\n",
              "HQ State                                            0\n",
              "Founding Year                                       0\n",
              "Annual Revenue 2022-2023 (USD in Billions)          0\n",
              "Market Cap (USD in Trillions)                       0\n",
              "Stock Name                                          0\n",
              "Annual Income Tax in 2022-2023 (USD in Billions)    0\n",
              "Employee Size                                       0\n",
              "dtype: int64"
            ]
          },
          "metadata": {},
          "execution_count": 53
        }
      ]
    },
    {
      "cell_type": "markdown",
      "source": [
        "* Data set has no missing values.\n",
        "\n",
        "\n"
      ],
      "metadata": {
        "id": "SPxRXjVEQ2Vu"
      }
    },
    {
      "cell_type": "markdown",
      "source": [
        "**Checking for duplicated values**"
      ],
      "metadata": {
        "id": "7WWCbmAZWWVl"
      }
    },
    {
      "cell_type": "code",
      "source": [
        "data.duplicated().sum()"
      ],
      "metadata": {
        "colab": {
          "base_uri": "https://localhost:8080/"
        },
        "id": "7akARwzdWVTZ",
        "outputId": "2c4f39b1-4fa1-4a16-ed92-12249ec61a88"
      },
      "execution_count": 54,
      "outputs": [
        {
          "output_type": "execute_result",
          "data": {
            "text/plain": [
              "0"
            ]
          },
          "metadata": {},
          "execution_count": 54
        }
      ]
    },
    {
      "cell_type": "markdown",
      "source": [
        "**Understanding shape of dataset**"
      ],
      "metadata": {
        "id": "b6lu6_zbRJ5q"
      }
    },
    {
      "cell_type": "code",
      "source": [
        "#shape of dataset\n",
        "print('there are', data.shape[0],'rows and',data.shape[1],'columns.')"
      ],
      "metadata": {
        "colab": {
          "base_uri": "https://localhost:8080/"
        },
        "id": "wY08YNPbQy17",
        "outputId": "9e34f031-042b-4700-c5d1-f780b4a9a5d0"
      },
      "execution_count": 55,
      "outputs": [
        {
          "output_type": "stream",
          "name": "stdout",
          "text": [
            "there are 50 rows and 10 columns.\n"
          ]
        }
      ]
    },
    {
      "cell_type": "markdown",
      "source": [
        "**Checking data types of the columns for the dataset**"
      ],
      "metadata": {
        "id": "_VEK5qYeRwfx"
      }
    },
    {
      "cell_type": "code",
      "source": [
        "data.info()"
      ],
      "metadata": {
        "colab": {
          "base_uri": "https://localhost:8080/"
        },
        "id": "KivH2axaRn8J",
        "outputId": "b21b77eb-a699-415f-e3d2-44bd8714fbd7"
      },
      "execution_count": 56,
      "outputs": [
        {
          "output_type": "stream",
          "name": "stdout",
          "text": [
            "<class 'pandas.core.frame.DataFrame'>\n",
            "RangeIndex: 50 entries, 0 to 49\n",
            "Data columns (total 10 columns):\n",
            " #   Column                                            Non-Null Count  Dtype  \n",
            "---  ------                                            --------------  -----  \n",
            " 0   Company Name                                      50 non-null     object \n",
            " 1   Industry                                          50 non-null     object \n",
            " 2   Sector                                            50 non-null     object \n",
            " 3   HQ State                                          50 non-null     object \n",
            " 4   Founding Year                                     50 non-null     int64  \n",
            " 5   Annual Revenue 2022-2023 (USD in Billions)        50 non-null     float64\n",
            " 6   Market Cap (USD in Trillions)                     50 non-null     float64\n",
            " 7   Stock Name                                        50 non-null     object \n",
            " 8   Annual Income Tax in 2022-2023 (USD in Billions)  50 non-null     float64\n",
            " 9   Employee Size                                     50 non-null     int64  \n",
            "dtypes: float64(3), int64(2), object(5)\n",
            "memory usage: 4.0+ KB\n"
          ]
        }
      ]
    },
    {
      "cell_type": "markdown",
      "source": [
        "\n",
        "\n",
        "*   There are 5 numerical columns in the data and 5 object type columns.\n",
        "\n",
        "\n"
      ],
      "metadata": {
        "id": "hTS8Mn-rSEmo"
      }
    },
    {
      "cell_type": "markdown",
      "source": [
        "**Checking the statistical summary of the data.**"
      ],
      "metadata": {
        "id": "BU8FMXN1SfV8"
      }
    },
    {
      "cell_type": "code",
      "source": [
        "data.describe().T"
      ],
      "metadata": {
        "colab": {
          "base_uri": "https://localhost:8080/",
          "height": 206
        },
        "id": "c2Da2lUQSBgO",
        "outputId": "d39a7f04-1da9-4b0e-f7e2-fbdbc81c2ab7"
      },
      "execution_count": 57,
      "outputs": [
        {
          "output_type": "execute_result",
          "data": {
            "text/plain": [
              "                                                  count      mean        std  \\\n",
              "Founding Year                                    50.000  1905.000      0.000   \n",
              "Annual Revenue 2022-2023 (USD in Billions)       50.000    51.204     97.413   \n",
              "Market Cap (USD in Trillions)                    50.000     0.252      0.490   \n",
              "Annual Income Tax in 2022-2023 (USD in Billions) 50.000     1.387      3.688   \n",
              "Employee Size                                    50.000 83249.620 220586.929   \n",
              "\n",
              "                                                      min       25%       50%  \\\n",
              "Founding Year                                    1905.000  1905.000  1905.000   \n",
              "Annual Revenue 2022-2023 (USD in Billions)          2.060     7.652    17.665   \n",
              "Market Cap (USD in Trillions)                       0.028     0.051     0.082   \n",
              "Annual Income Tax in 2022-2023 (USD in Billions)   -3.217     0.099     0.280   \n",
              "Employee Size                                    2993.000 14150.000 24725.000   \n",
              "\n",
              "                                                       75%         max  \n",
              "Founding Year                                     1905.000    1905.000  \n",
              "Annual Revenue 2022-2023 (USD in Billions)          40.815     513.980  \n",
              "Market Cap (USD in Trillions)                        0.160       2.520  \n",
              "Annual Income Tax in 2022-2023 (USD in Billions)     0.945      18.314  \n",
              "Employee Size                                    70155.750 1541000.000  "
            ],
            "text/html": [
              "\n",
              "  <div id=\"df-bd8c91eb-e768-4ce5-825a-2a26ea698844\" class=\"colab-df-container\">\n",
              "    <div>\n",
              "<style scoped>\n",
              "    .dataframe tbody tr th:only-of-type {\n",
              "        vertical-align: middle;\n",
              "    }\n",
              "\n",
              "    .dataframe tbody tr th {\n",
              "        vertical-align: top;\n",
              "    }\n",
              "\n",
              "    .dataframe thead th {\n",
              "        text-align: right;\n",
              "    }\n",
              "</style>\n",
              "<table border=\"1\" class=\"dataframe\">\n",
              "  <thead>\n",
              "    <tr style=\"text-align: right;\">\n",
              "      <th></th>\n",
              "      <th>count</th>\n",
              "      <th>mean</th>\n",
              "      <th>std</th>\n",
              "      <th>min</th>\n",
              "      <th>25%</th>\n",
              "      <th>50%</th>\n",
              "      <th>75%</th>\n",
              "      <th>max</th>\n",
              "    </tr>\n",
              "  </thead>\n",
              "  <tbody>\n",
              "    <tr>\n",
              "      <th>Founding Year</th>\n",
              "      <td>50.000</td>\n",
              "      <td>1905.000</td>\n",
              "      <td>0.000</td>\n",
              "      <td>1905.000</td>\n",
              "      <td>1905.000</td>\n",
              "      <td>1905.000</td>\n",
              "      <td>1905.000</td>\n",
              "      <td>1905.000</td>\n",
              "    </tr>\n",
              "    <tr>\n",
              "      <th>Annual Revenue 2022-2023 (USD in Billions)</th>\n",
              "      <td>50.000</td>\n",
              "      <td>51.204</td>\n",
              "      <td>97.413</td>\n",
              "      <td>2.060</td>\n",
              "      <td>7.652</td>\n",
              "      <td>17.665</td>\n",
              "      <td>40.815</td>\n",
              "      <td>513.980</td>\n",
              "    </tr>\n",
              "    <tr>\n",
              "      <th>Market Cap (USD in Trillions)</th>\n",
              "      <td>50.000</td>\n",
              "      <td>0.252</td>\n",
              "      <td>0.490</td>\n",
              "      <td>0.028</td>\n",
              "      <td>0.051</td>\n",
              "      <td>0.082</td>\n",
              "      <td>0.160</td>\n",
              "      <td>2.520</td>\n",
              "    </tr>\n",
              "    <tr>\n",
              "      <th>Annual Income Tax in 2022-2023 (USD in Billions)</th>\n",
              "      <td>50.000</td>\n",
              "      <td>1.387</td>\n",
              "      <td>3.688</td>\n",
              "      <td>-3.217</td>\n",
              "      <td>0.099</td>\n",
              "      <td>0.280</td>\n",
              "      <td>0.945</td>\n",
              "      <td>18.314</td>\n",
              "    </tr>\n",
              "    <tr>\n",
              "      <th>Employee Size</th>\n",
              "      <td>50.000</td>\n",
              "      <td>83249.620</td>\n",
              "      <td>220586.929</td>\n",
              "      <td>2993.000</td>\n",
              "      <td>14150.000</td>\n",
              "      <td>24725.000</td>\n",
              "      <td>70155.750</td>\n",
              "      <td>1541000.000</td>\n",
              "    </tr>\n",
              "  </tbody>\n",
              "</table>\n",
              "</div>\n",
              "    <div class=\"colab-df-buttons\">\n",
              "\n",
              "  <div class=\"colab-df-container\">\n",
              "    <button class=\"colab-df-convert\" onclick=\"convertToInteractive('df-bd8c91eb-e768-4ce5-825a-2a26ea698844')\"\n",
              "            title=\"Convert this dataframe to an interactive table.\"\n",
              "            style=\"display:none;\">\n",
              "\n",
              "  <svg xmlns=\"http://www.w3.org/2000/svg\" height=\"24px\" viewBox=\"0 -960 960 960\">\n",
              "    <path d=\"M120-120v-720h720v720H120Zm60-500h600v-160H180v160Zm220 220h160v-160H400v160Zm0 220h160v-160H400v160ZM180-400h160v-160H180v160Zm440 0h160v-160H620v160ZM180-180h160v-160H180v160Zm440 0h160v-160H620v160Z\"/>\n",
              "  </svg>\n",
              "    </button>\n",
              "\n",
              "  <style>\n",
              "    .colab-df-container {\n",
              "      display:flex;\n",
              "      gap: 12px;\n",
              "    }\n",
              "\n",
              "    .colab-df-convert {\n",
              "      background-color: #E8F0FE;\n",
              "      border: none;\n",
              "      border-radius: 50%;\n",
              "      cursor: pointer;\n",
              "      display: none;\n",
              "      fill: #1967D2;\n",
              "      height: 32px;\n",
              "      padding: 0 0 0 0;\n",
              "      width: 32px;\n",
              "    }\n",
              "\n",
              "    .colab-df-convert:hover {\n",
              "      background-color: #E2EBFA;\n",
              "      box-shadow: 0px 1px 2px rgba(60, 64, 67, 0.3), 0px 1px 3px 1px rgba(60, 64, 67, 0.15);\n",
              "      fill: #174EA6;\n",
              "    }\n",
              "\n",
              "    .colab-df-buttons div {\n",
              "      margin-bottom: 4px;\n",
              "    }\n",
              "\n",
              "    [theme=dark] .colab-df-convert {\n",
              "      background-color: #3B4455;\n",
              "      fill: #D2E3FC;\n",
              "    }\n",
              "\n",
              "    [theme=dark] .colab-df-convert:hover {\n",
              "      background-color: #434B5C;\n",
              "      box-shadow: 0px 1px 3px 1px rgba(0, 0, 0, 0.15);\n",
              "      filter: drop-shadow(0px 1px 2px rgba(0, 0, 0, 0.3));\n",
              "      fill: #FFFFFF;\n",
              "    }\n",
              "  </style>\n",
              "\n",
              "    <script>\n",
              "      const buttonEl =\n",
              "        document.querySelector('#df-bd8c91eb-e768-4ce5-825a-2a26ea698844 button.colab-df-convert');\n",
              "      buttonEl.style.display =\n",
              "        google.colab.kernel.accessAllowed ? 'block' : 'none';\n",
              "\n",
              "      async function convertToInteractive(key) {\n",
              "        const element = document.querySelector('#df-bd8c91eb-e768-4ce5-825a-2a26ea698844');\n",
              "        const dataTable =\n",
              "          await google.colab.kernel.invokeFunction('convertToInteractive',\n",
              "                                                    [key], {});\n",
              "        if (!dataTable) return;\n",
              "\n",
              "        const docLinkHtml = 'Like what you see? Visit the ' +\n",
              "          '<a target=\"_blank\" href=https://colab.research.google.com/notebooks/data_table.ipynb>data table notebook</a>'\n",
              "          + ' to learn more about interactive tables.';\n",
              "        element.innerHTML = '';\n",
              "        dataTable['output_type'] = 'display_data';\n",
              "        await google.colab.output.renderOutput(dataTable, element);\n",
              "        const docLink = document.createElement('div');\n",
              "        docLink.innerHTML = docLinkHtml;\n",
              "        element.appendChild(docLink);\n",
              "      }\n",
              "    </script>\n",
              "  </div>\n",
              "\n",
              "\n",
              "<div id=\"df-389e7fdc-faba-4222-b31d-42031a5df2bd\">\n",
              "  <button class=\"colab-df-quickchart\" onclick=\"quickchart('df-389e7fdc-faba-4222-b31d-42031a5df2bd')\"\n",
              "            title=\"Suggest charts\"\n",
              "            style=\"display:none;\">\n",
              "\n",
              "<svg xmlns=\"http://www.w3.org/2000/svg\" height=\"24px\"viewBox=\"0 0 24 24\"\n",
              "     width=\"24px\">\n",
              "    <g>\n",
              "        <path d=\"M19 3H5c-1.1 0-2 .9-2 2v14c0 1.1.9 2 2 2h14c1.1 0 2-.9 2-2V5c0-1.1-.9-2-2-2zM9 17H7v-7h2v7zm4 0h-2V7h2v10zm4 0h-2v-4h2v4z\"/>\n",
              "    </g>\n",
              "</svg>\n",
              "  </button>\n",
              "\n",
              "<style>\n",
              "  .colab-df-quickchart {\n",
              "      --bg-color: #E8F0FE;\n",
              "      --fill-color: #1967D2;\n",
              "      --hover-bg-color: #E2EBFA;\n",
              "      --hover-fill-color: #174EA6;\n",
              "      --disabled-fill-color: #AAA;\n",
              "      --disabled-bg-color: #DDD;\n",
              "  }\n",
              "\n",
              "  [theme=dark] .colab-df-quickchart {\n",
              "      --bg-color: #3B4455;\n",
              "      --fill-color: #D2E3FC;\n",
              "      --hover-bg-color: #434B5C;\n",
              "      --hover-fill-color: #FFFFFF;\n",
              "      --disabled-bg-color: #3B4455;\n",
              "      --disabled-fill-color: #666;\n",
              "  }\n",
              "\n",
              "  .colab-df-quickchart {\n",
              "    background-color: var(--bg-color);\n",
              "    border: none;\n",
              "    border-radius: 50%;\n",
              "    cursor: pointer;\n",
              "    display: none;\n",
              "    fill: var(--fill-color);\n",
              "    height: 32px;\n",
              "    padding: 0;\n",
              "    width: 32px;\n",
              "  }\n",
              "\n",
              "  .colab-df-quickchart:hover {\n",
              "    background-color: var(--hover-bg-color);\n",
              "    box-shadow: 0 1px 2px rgba(60, 64, 67, 0.3), 0 1px 3px 1px rgba(60, 64, 67, 0.15);\n",
              "    fill: var(--button-hover-fill-color);\n",
              "  }\n",
              "\n",
              "  .colab-df-quickchart-complete:disabled,\n",
              "  .colab-df-quickchart-complete:disabled:hover {\n",
              "    background-color: var(--disabled-bg-color);\n",
              "    fill: var(--disabled-fill-color);\n",
              "    box-shadow: none;\n",
              "  }\n",
              "\n",
              "  .colab-df-spinner {\n",
              "    border: 2px solid var(--fill-color);\n",
              "    border-color: transparent;\n",
              "    border-bottom-color: var(--fill-color);\n",
              "    animation:\n",
              "      spin 1s steps(1) infinite;\n",
              "  }\n",
              "\n",
              "  @keyframes spin {\n",
              "    0% {\n",
              "      border-color: transparent;\n",
              "      border-bottom-color: var(--fill-color);\n",
              "      border-left-color: var(--fill-color);\n",
              "    }\n",
              "    20% {\n",
              "      border-color: transparent;\n",
              "      border-left-color: var(--fill-color);\n",
              "      border-top-color: var(--fill-color);\n",
              "    }\n",
              "    30% {\n",
              "      border-color: transparent;\n",
              "      border-left-color: var(--fill-color);\n",
              "      border-top-color: var(--fill-color);\n",
              "      border-right-color: var(--fill-color);\n",
              "    }\n",
              "    40% {\n",
              "      border-color: transparent;\n",
              "      border-right-color: var(--fill-color);\n",
              "      border-top-color: var(--fill-color);\n",
              "    }\n",
              "    60% {\n",
              "      border-color: transparent;\n",
              "      border-right-color: var(--fill-color);\n",
              "    }\n",
              "    80% {\n",
              "      border-color: transparent;\n",
              "      border-right-color: var(--fill-color);\n",
              "      border-bottom-color: var(--fill-color);\n",
              "    }\n",
              "    90% {\n",
              "      border-color: transparent;\n",
              "      border-bottom-color: var(--fill-color);\n",
              "    }\n",
              "  }\n",
              "</style>\n",
              "\n",
              "  <script>\n",
              "    async function quickchart(key) {\n",
              "      const quickchartButtonEl =\n",
              "        document.querySelector('#' + key + ' button');\n",
              "      quickchartButtonEl.disabled = true;  // To prevent multiple clicks.\n",
              "      quickchartButtonEl.classList.add('colab-df-spinner');\n",
              "      try {\n",
              "        const charts = await google.colab.kernel.invokeFunction(\n",
              "            'suggestCharts', [key], {});\n",
              "      } catch (error) {\n",
              "        console.error('Error during call to suggestCharts:', error);\n",
              "      }\n",
              "      quickchartButtonEl.classList.remove('colab-df-spinner');\n",
              "      quickchartButtonEl.classList.add('colab-df-quickchart-complete');\n",
              "    }\n",
              "    (() => {\n",
              "      let quickchartButtonEl =\n",
              "        document.querySelector('#df-389e7fdc-faba-4222-b31d-42031a5df2bd button');\n",
              "      quickchartButtonEl.style.display =\n",
              "        google.colab.kernel.accessAllowed ? 'block' : 'none';\n",
              "    })();\n",
              "  </script>\n",
              "</div>\n",
              "\n",
              "    </div>\n",
              "  </div>\n"
            ]
          },
          "metadata": {},
          "execution_count": 57
        }
      ]
    },
    {
      "cell_type": "markdown",
      "source": [
        "\n",
        "\n",
        "*   All companies where founded in the same year of 1905 as the **Founding year column** has a **std is 0.**\n",
        "*   The **Annual Revenue column** has an outlier as there is a high **std of 97.413** and the **max is 513.980** whilst the **mean is 51.204**\n",
        "* The **Employee Size** column data is skewed as its **std of 220586.929** is **higher than the mean of 83249.62** and it has a large **max of 1541000.**\n",
        "\n"
      ],
      "metadata": {
        "id": "rg28NXKFS2u6"
      }
    },
    {
      "cell_type": "markdown",
      "source": [
        "**Dropping Unnecessary columns**"
      ],
      "metadata": {
        "id": "blzYd_GNZRR5"
      }
    },
    {
      "cell_type": "code",
      "source": [
        "#all columns.\n",
        "data.columns"
      ],
      "metadata": {
        "colab": {
          "base_uri": "https://localhost:8080/"
        },
        "id": "bearn8JESp0i",
        "outputId": "1668cf97-6b44-49ad-bbf5-e075d102a38b"
      },
      "execution_count": 58,
      "outputs": [
        {
          "output_type": "execute_result",
          "data": {
            "text/plain": [
              "Index(['Company Name', 'Industry', 'Sector', 'HQ State', 'Founding Year',\n",
              "       'Annual Revenue 2022-2023 (USD in Billions)',\n",
              "       'Market Cap (USD in Trillions)', 'Stock Name',\n",
              "       'Annual Income Tax in 2022-2023 (USD in Billions)', 'Employee Size'],\n",
              "      dtype='object')"
            ]
          },
          "metadata": {},
          "execution_count": 58
        }
      ]
    },
    {
      "cell_type": "code",
      "source": [
        "#Dropping unnecessary columns\n",
        "data.drop(['Industry','Founding Year','Stock Name'],axis=1,inplace=True)"
      ],
      "metadata": {
        "id": "4gmw-z3tZh6z"
      },
      "execution_count": 59,
      "outputs": []
    },
    {
      "cell_type": "code",
      "source": [
        "#Checking unique values in the HQ State column\n",
        "print ('There are',data['HQ State'].nunique(), 'different states in the dataset.')"
      ],
      "metadata": {
        "colab": {
          "base_uri": "https://localhost:8080/"
        },
        "id": "pzR7hbZBZ_XL",
        "outputId": "3be20ea1-7315-41bf-8ce2-54abbcf67eb2"
      },
      "execution_count": 60,
      "outputs": [
        {
          "output_type": "stream",
          "name": "stdout",
          "text": [
            "There are 13 different states in the dataset.\n"
          ]
        }
      ]
    },
    {
      "cell_type": "code",
      "source": [
        "#Checking unique values in the Sector column\n",
        "print('There are', data['Sector'].nunique(),'different sectors in the dataset.')"
      ],
      "metadata": {
        "colab": {
          "base_uri": "https://localhost:8080/"
        },
        "id": "ZjYTKw_7jDm4",
        "outputId": "57811256-3bc0-43f3-ddc7-acdcb995532b"
      },
      "execution_count": 61,
      "outputs": [
        {
          "output_type": "stream",
          "name": "stdout",
          "text": [
            "There are 8 different sectors in the dataset.\n"
          ]
        }
      ]
    },
    {
      "cell_type": "markdown",
      "source": [
        "###**Univariate analysis**"
      ],
      "metadata": {
        "id": "kTjeYBYpml1C"
      }
    },
    {
      "cell_type": "code",
      "source": [
        "data['HQ State'].value_counts()\n"
      ],
      "metadata": {
        "colab": {
          "base_uri": "https://localhost:8080/"
        },
        "id": "nN5yPEhsxcwa",
        "outputId": "a6cdde9a-027f-4d3a-ddb4-fe32587d770b"
      },
      "execution_count": 62,
      "outputs": [
        {
          "output_type": "execute_result",
          "data": {
            "text/plain": [
              "California        33\n",
              "Texas              4\n",
              "Washington         2\n",
              "New York           2\n",
              "Connecticut        1\n",
              "Massachusetts      1\n",
              "New Jersey         1\n",
              "Wisconsin          1\n",
              "Idaho              1\n",
              "Montana            1\n",
              "Florida            1\n",
              "Arizona            1\n",
              "North Carolina     1\n",
              "Name: HQ State, dtype: int64"
            ]
          },
          "metadata": {},
          "execution_count": 62
        }
      ]
    },
    {
      "cell_type": "code",
      "source": [
        "sns.countplot(data=data,x='HQ State')\n",
        "plt.xticks(rotation=90)\n",
        "plt.title('Count of states')\n",
        "plt.show()"
      ],
      "metadata": {
        "colab": {
          "base_uri": "https://localhost:8080/",
          "height": 560
        },
        "id": "tGMZWLD7kME-",
        "outputId": "6c3ce792-8213-488c-8e13-cb2881c99288"
      },
      "execution_count": 63,
      "outputs": [
        {
          "output_type": "display_data",
          "data": {
            "text/plain": [
              "<Figure size 640x480 with 1 Axes>"
            ],
            "image/png": "[encoded data removed]"
          },
          "metadata": {}
        }
      ]
    },
    {
      "cell_type": "markdown",
      "source": [
        "* 33 companies have their companies their headquarters in California which makes it the top state."
      ],
      "metadata": {
        "id": "210t7RF9pPo0"
      }
    },
    {
      "cell_type": "code",
      "source": [
        "data['Sector'].value_counts()"
      ],
      "metadata": {
        "colab": {
          "base_uri": "https://localhost:8080/"
        },
        "id": "s5B_RcN4pMJs",
        "outputId": "ef0d0f33-5d04-4111-c6ee-20931d91d1d4"
      },
      "execution_count": 64,
      "outputs": [
        {
          "output_type": "execute_result",
          "data": {
            "text/plain": [
              "Software Application        15\n",
              "Semiconductors              14\n",
              "Software Infrastructure     12\n",
              "IT Services                  3\n",
              "Computer Hardware            3\n",
              "Consumer Electronics         1\n",
              "Communication Equipments     1\n",
              "Electronic Components        1\n",
              "Name: Sector, dtype: int64"
            ]
          },
          "metadata": {},
          "execution_count": 64
        }
      ]
    },
    {
      "cell_type": "code",
      "source": [
        "sns.countplot(data=data, x='Sector')\n",
        "plt.xticks(rotation=90)\n",
        "plt.title('Count of Sector')\n",
        "plt.show()"
      ],
      "metadata": {
        "colab": {
          "base_uri": "https://localhost:8080/",
          "height": 654
        },
        "id": "K-NBzO2N2Uy7",
        "outputId": "c1030215-37f8-461f-c158-1431a5bb0bd6"
      },
      "execution_count": 65,
      "outputs": [
        {
          "output_type": "display_data",
          "data": {
            "text/plain": [
              "<Figure size 640x480 with 1 Axes>"
            ],
            "image/png": "[encoded data removed]"
          },
          "metadata": {}
        }
      ]
    },
    {
      "cell_type": "markdown",
      "source": [
        "* Software Application sector has the most companies on the list with a total of 15 companies.\n"
      ],
      "metadata": {
        "id": "p7ADo0_y3HwS"
      }
    },
    {
      "cell_type": "markdown",
      "source": [
        "###**Bivariate Analysis**"
      ],
      "metadata": {
        "id": "4zLUIJBi3mYV"
      }
    },
    {
      "cell_type": "code",
      "source": [
        "plt.figure(figsize= (10,5))\n",
        "top=data.groupby(['Company Name'],as_index=False)['Annual Revenue 2022-2023 (USD in Billions)'].sum().sort_values(by='Annual Revenue 2022-2023 (USD in Billions)', ascending =False).head(10)\n",
        "sns.barplot(data=top,x= 'Company Name', y='Annual Revenue 2022-2023 (USD in Billions)')\n",
        "plt.title('Top 10 Companies by Revenue')\n",
        "plt.xticks(rotation=90)\n",
        "plt.show()"
      ],
      "metadata": {
        "colab": {
          "base_uri": "https://localhost:8080/",
          "height": 623
        },
        "id": "_jhK5aMA2zsr",
        "outputId": "08e0068d-59a4-4f72-d94f-449ebcdfbc21"
      },
      "execution_count": 66,
      "outputs": [
        {
          "output_type": "display_data",
          "data": {
            "text/plain": [
              "<Figure size 1000x500 with 1 Axes>"
            ],
            "image/png": "[encoded data removed]"
          },
          "metadata": {}
        }
      ]
    },
    {
      "cell_type": "markdown",
      "source": [
        "\n",
        "\n",
        "*   Amazon brought in the most revenue in the 2022-2023 fiscal year.\n",
        "\n"
      ],
      "metadata": {
        "id": "WYBw9v98Z4HX"
      }
    },
    {
      "cell_type": "code",
      "source": [
        "plt.figure(figsize=(10,5))\n",
        "low=data.groupby(['Company Name'],as_index=False)['Annual Revenue 2022-2023 (USD in Billions)'].sum().sort_values(by='Annual Revenue 2022-2023 (USD in Billions)', ascending=False).tail(10)\n",
        "sns.barplot(data=low,x='Company Name', y='Annual Revenue 2022-2023 (USD in Billions)')\n",
        "plt.title('Bottom 10 Companies in Revenue')\n",
        "plt.xticks(rotation=90)\n",
        "plt.show()"
      ],
      "metadata": {
        "colab": {
          "base_uri": "https://localhost:8080/",
          "height": 678
        },
        "id": "lKcn7hCHXvE0",
        "outputId": "55aac2d6-f309-4a34-bac7-e853446e7984"
      },
      "execution_count": 67,
      "outputs": [
        {
          "output_type": "display_data",
          "data": {
            "text/plain": [
              "<Figure size 1000x500 with 1 Axes>"
            ],
            "image/png": "[encoded data removed]"
          },
          "metadata": {}
        }
      ]
    },
    {
      "cell_type": "markdown",
      "source": [
        "* Snowflake Inc made the least revenue among the top 50 in the 2022-2023 fiscal year."
      ],
      "metadata": {
        "id": "Cs-O3Vwaciim"
      }
    },
    {
      "cell_type": "code",
      "source": [
        "plt.figure(figsize=(10,5))\n",
        "sns.lineplot(data=data,x='Sector',y='Annual Revenue 2022-2023 (USD in Billions)', marker='o',errorbar=('ci',False))\n",
        "plt.title('Revenue by Sector')\n",
        "plt.xticks(rotation=90)\n",
        "plt.show()"
      ],
      "metadata": {
        "colab": {
          "base_uri": "https://localhost:8080/",
          "height": 669
        },
        "id": "Iu3ZkK7wcPW9",
        "outputId": "f0624a44-085a-4a39-c646-180f08908431"
      },
      "execution_count": 68,
      "outputs": [
        {
          "output_type": "display_data",
          "data": {
            "text/plain": [
              "<Figure size 1000x500 with 1 Axes>"
            ],
            "image/png": "[encoded data removed]"
          },
          "metadata": {}
        }
      ]
    },
    {
      "cell_type": "markdown",
      "source": [
        "* The Consumer Electronics sector brought in the most revenue in the 2022-2023 fiscal year among the top 50 list."
      ],
      "metadata": {
        "id": "VdPU03bpfTqM"
      }
    },
    {
      "cell_type": "code",
      "source": [
        "plt.figure(figsize=(10,5))\n",
        "sns.lineplot(data=data, x='Employee Size', y='Annual Income Tax in 2022-2023 (USD in Billions)')\n",
        "plt.title('Employee Size vs Income Tax')\n",
        "plt.show()"
      ],
      "metadata": {
        "colab": {
          "base_uri": "https://localhost:8080/",
          "height": 487
        },
        "id": "gyxtgBiMeZ-M",
        "outputId": "07586ccf-8422-4417-de24-2231fe876350"
      },
      "execution_count": 69,
      "outputs": [
        {
          "output_type": "display_data",
          "data": {
            "text/plain": [
              "<Figure size 1000x500 with 1 Axes>"
            ],
            "image/png": "[encoded data removed]"
          },
          "metadata": {}
        }
      ]
    },
    {
      "cell_type": "markdown",
      "source": [
        "* The graph is skewed to the right. Employee size has a negative relationship with annual income tax.\n"
      ],
      "metadata": {
        "id": "eOs3q0Pwl4_u"
      }
    },
    {
      "cell_type": "code",
      "source": [
        "#Correlation between Employee size and Annual Income Tax\n",
        "data[['Employee Size','Annual Income Tax in 2022-2023 (USD in Billions)']].corr()"
      ],
      "metadata": {
        "colab": {
          "base_uri": "https://localhost:8080/",
          "height": 112
        },
        "id": "1rUrU323h2wy",
        "outputId": "1076ffd5-f5e2-4d47-a925-f2def138c332"
      },
      "execution_count": 70,
      "outputs": [
        {
          "output_type": "execute_result",
          "data": {
            "text/plain": [
              "                                                  Employee Size  \\\n",
              "Employee Size                                             1.000   \n",
              "Annual Income Tax in 2022-2023 (USD in Billions)         -0.019   \n",
              "\n",
              "                                                  Annual Income Tax in 2022-2023 (USD in Billions)  \n",
              "Employee Size                                                                               -0.019  \n",
              "Annual Income Tax in 2022-2023 (USD in Billions)                                             1.000  "
            ],
            "text/html": [
              "\n",
              "  <div id=\"df-35d84e95-d0b8-46e3-89d3-bf03480f6095\" class=\"colab-df-container\">\n",
              "    <div>\n",
              "<style scoped>\n",
              "    .dataframe tbody tr th:only-of-type {\n",
              "        vertical-align: middle;\n",
              "    }\n",
              "\n",
              "    .dataframe tbody tr th {\n",
              "        vertical-align: top;\n",
              "    }\n",
              "\n",
              "    .dataframe thead th {\n",
              "        text-align: right;\n",
              "    }\n",
              "</style>\n",
              "<table border=\"1\" class=\"dataframe\">\n",
              "  <thead>\n",
              "    <tr style=\"text-align: right;\">\n",
              "      <th></th>\n",
              "      <th>Employee Size</th>\n",
              "      <th>Annual Income Tax in 2022-2023 (USD in Billions)</th>\n",
              "    </tr>\n",
              "  </thead>\n",
              "  <tbody>\n",
              "    <tr>\n",
              "      <th>Employee Size</th>\n",
              "      <td>1.000</td>\n",
              "      <td>-0.019</td>\n",
              "    </tr>\n",
              "    <tr>\n",
              "      <th>Annual Income Tax in 2022-2023 (USD in Billions)</th>\n",
              "      <td>-0.019</td>\n",
              "      <td>1.000</td>\n",
              "    </tr>\n",
              "  </tbody>\n",
              "</table>\n",
              "</div>\n",
              "    <div class=\"colab-df-buttons\">\n",
              "\n",
              "  <div class=\"colab-df-container\">\n",
              "    <button class=\"colab-df-convert\" onclick=\"convertToInteractive('df-35d84e95-d0b8-46e3-89d3-bf03480f6095')\"\n",
              "            title=\"Convert this dataframe to an interactive table.\"\n",
              "            style=\"display:none;\">\n",
              "\n",
              "  <svg xmlns=\"http://www.w3.org/2000/svg\" height=\"24px\" viewBox=\"0 -960 960 960\">\n",
              "    <path d=\"M120-120v-720h720v720H120Zm60-500h600v-160H180v160Zm220 220h160v-160H400v160Zm0 220h160v-160H400v160ZM180-400h160v-160H180v160Zm440 0h160v-160H620v160ZM180-180h160v-160H180v160Zm440 0h160v-160H620v160Z\"/>\n",
              "  </svg>\n",
              "    </button>\n",
              "\n",
              "  <style>\n",
              "    .colab-df-container {\n",
              "      display:flex;\n",
              "      gap: 12px;\n",
              "    }\n",
              "\n",
              "    .colab-df-convert {\n",
              "      background-color: #E8F0FE;\n",
              "      border: none;\n",
              "      border-radius: 50%;\n",
              "      cursor: pointer;\n",
              "      display: none;\n",
              "      fill: #1967D2;\n",
              "      height: 32px;\n",
              "      padding: 0 0 0 0;\n",
              "      width: 32px;\n",
              "    }\n",
              "\n",
              "    .colab-df-convert:hover {\n",
              "      background-color: #E2EBFA;\n",
              "      box-shadow: 0px 1px 2px rgba(60, 64, 67, 0.3), 0px 1px 3px 1px rgba(60, 64, 67, 0.15);\n",
              "      fill: #174EA6;\n",
              "    }\n",
              "\n",
              "    .colab-df-buttons div {\n",
              "      margin-bottom: 4px;\n",
              "    }\n",
              "\n",
              "    [theme=dark] .colab-df-convert {\n",
              "      background-color: #3B4455;\n",
              "      fill: #D2E3FC;\n",
              "    }\n",
              "\n",
              "    [theme=dark] .colab-df-convert:hover {\n",
              "      background-color: #434B5C;\n",
              "      box-shadow: 0px 1px 3px 1px rgba(0, 0, 0, 0.15);\n",
              "      filter: drop-shadow(0px 1px 2px rgba(0, 0, 0, 0.3));\n",
              "      fill: #FFFFFF;\n",
              "    }\n",
              "  </style>\n",
              "\n",
              "    <script>\n",
              "      const buttonEl =\n",
              "        document.querySelector('#df-35d84e95-d0b8-46e3-89d3-bf03480f6095 button.colab-df-convert');\n",
              "      buttonEl.style.display =\n",
              "        google.colab.kernel.accessAllowed ? 'block' : 'none';\n",
              "\n",
              "      async function convertToInteractive(key) {\n",
              "        const element = document.querySelector('#df-35d84e95-d0b8-46e3-89d3-bf03480f6095');\n",
              "        const dataTable =\n",
              "          await google.colab.kernel.invokeFunction('convertToInteractive',\n",
              "                                                    [key], {});\n",
              "        if (!dataTable) return;\n",
              "\n",
              "        const docLinkHtml = 'Like what you see? Visit the ' +\n",
              "          '<a target=\"_blank\" href=https://colab.research.google.com/notebooks/data_table.ipynb>data table notebook</a>'\n",
              "          + ' to learn more about interactive tables.';\n",
              "        element.innerHTML = '';\n",
              "        dataTable['output_type'] = 'display_data';\n",
              "        await google.colab.output.renderOutput(dataTable, element);\n",
              "        const docLink = document.createElement('div');\n",
              "        docLink.innerHTML = docLinkHtml;\n",
              "        element.appendChild(docLink);\n",
              "      }\n",
              "    </script>\n",
              "  </div>\n",
              "\n",
              "\n",
              "<div id=\"df-963c92d4-56b5-4057-842d-db814eea0121\">\n",
              "  <button class=\"colab-df-quickchart\" onclick=\"quickchart('df-963c92d4-56b5-4057-842d-db814eea0121')\"\n",
              "            title=\"Suggest charts\"\n",
              "            style=\"display:none;\">\n",
              "\n",
              "<svg xmlns=\"http://www.w3.org/2000/svg\" height=\"24px\"viewBox=\"0 0 24 24\"\n",
              "     width=\"24px\">\n",
              "    <g>\n",
              "        <path d=\"M19 3H5c-1.1 0-2 .9-2 2v14c0 1.1.9 2 2 2h14c1.1 0 2-.9 2-2V5c0-1.1-.9-2-2-2zM9 17H7v-7h2v7zm4 0h-2V7h2v10zm4 0h-2v-4h2v4z\"/>\n",
              "    </g>\n",
              "</svg>\n",
              "  </button>\n",
              "\n",
              "<style>\n",
              "  .colab-df-quickchart {\n",
              "      --bg-color: #E8F0FE;\n",
              "      --fill-color: #1967D2;\n",
              "      --hover-bg-color: #E2EBFA;\n",
              "      --hover-fill-color: #174EA6;\n",
              "      --disabled-fill-color: #AAA;\n",
              "      --disabled-bg-color: #DDD;\n",
              "  }\n",
              "\n",
              "  [theme=dark] .colab-df-quickchart {\n",
              "      --bg-color: #3B4455;\n",
              "      --fill-color: #D2E3FC;\n",
              "      --hover-bg-color: #434B5C;\n",
              "      --hover-fill-color: #FFFFFF;\n",
              "      --disabled-bg-color: #3B4455;\n",
              "      --disabled-fill-color: #666;\n",
              "  }\n",
              "\n",
              "  .colab-df-quickchart {\n",
              "    background-color: var(--bg-color);\n",
              "    border: none;\n",
              "    border-radius: 50%;\n",
              "    cursor: pointer;\n",
              "    display: none;\n",
              "    fill: var(--fill-color);\n",
              "    height: 32px;\n",
              "    padding: 0;\n",
              "    width: 32px;\n",
              "  }\n",
              "\n",
              "  .colab-df-quickchart:hover {\n",
              "    background-color: var(--hover-bg-color);\n",
              "    box-shadow: 0 1px 2px rgba(60, 64, 67, 0.3), 0 1px 3px 1px rgba(60, 64, 67, 0.15);\n",
              "    fill: var(--button-hover-fill-color);\n",
              "  }\n",
              "\n",
              "  .colab-df-quickchart-complete:disabled,\n",
              "  .colab-df-quickchart-complete:disabled:hover {\n",
              "    background-color: var(--disabled-bg-color);\n",
              "    fill: var(--disabled-fill-color);\n",
              "    box-shadow: none;\n",
              "  }\n",
              "\n",
              "  .colab-df-spinner {\n",
              "    border: 2px solid var(--fill-color);\n",
              "    border-color: transparent;\n",
              "    border-bottom-color: var(--fill-color);\n",
              "    animation:\n",
              "      spin 1s steps(1) infinite;\n",
              "  }\n",
              "\n",
              "  @keyframes spin {\n",
              "    0% {\n",
              "      border-color: transparent;\n",
              "      border-bottom-color: var(--fill-color);\n",
              "      border-left-color: var(--fill-color);\n",
              "    }\n",
              "    20% {\n",
              "      border-color: transparent;\n",
              "      border-left-color: var(--fill-color);\n",
              "      border-top-color: var(--fill-color);\n",
              "    }\n",
              "    30% {\n",
              "      border-color: transparent;\n",
              "      border-left-color: var(--fill-color);\n",
              "      border-top-color: var(--fill-color);\n",
              "      border-right-color: var(--fill-color);\n",
              "    }\n",
              "    40% {\n",
              "      border-color: transparent;\n",
              "      border-right-color: var(--fill-color);\n",
              "      border-top-color: var(--fill-color);\n",
              "    }\n",
              "    60% {\n",
              "      border-color: transparent;\n",
              "      border-right-color: var(--fill-color);\n",
              "    }\n",
              "    80% {\n",
              "      border-color: transparent;\n",
              "      border-right-color: var(--fill-color);\n",
              "      border-bottom-color: var(--fill-color);\n",
              "    }\n",
              "    90% {\n",
              "      border-color: transparent;\n",
              "      border-bottom-color: var(--fill-color);\n",
              "    }\n",
              "  }\n",
              "</style>\n",
              "\n",
              "  <script>\n",
              "    async function quickchart(key) {\n",
              "      const quickchartButtonEl =\n",
              "        document.querySelector('#' + key + ' button');\n",
              "      quickchartButtonEl.disabled = true;  // To prevent multiple clicks.\n",
              "      quickchartButtonEl.classList.add('colab-df-spinner');\n",
              "      try {\n",
              "        const charts = await google.colab.kernel.invokeFunction(\n",
              "            'suggestCharts', [key], {});\n",
              "      } catch (error) {\n",
              "        console.error('Error during call to suggestCharts:', error);\n",
              "      }\n",
              "      quickchartButtonEl.classList.remove('colab-df-spinner');\n",
              "      quickchartButtonEl.classList.add('colab-df-quickchart-complete');\n",
              "    }\n",
              "    (() => {\n",
              "      let quickchartButtonEl =\n",
              "        document.querySelector('#df-963c92d4-56b5-4057-842d-db814eea0121 button');\n",
              "      quickchartButtonEl.style.display =\n",
              "        google.colab.kernel.accessAllowed ? 'block' : 'none';\n",
              "    })();\n",
              "  </script>\n",
              "</div>\n",
              "\n",
              "    </div>\n",
              "  </div>\n"
            ]
          },
          "metadata": {},
          "execution_count": 70
        }
      ]
    },
    {
      "cell_type": "markdown",
      "source": [
        "* the negative correlation is closer to 0 meaning that Employee Size and Annual Income tax barely have a relationship."
      ],
      "metadata": {
        "id": "9aMX7WXNxT9L"
      }
    },
    {
      "cell_type": "code",
      "source": [
        "plt.figure(figsize=(10,5))\n",
        "value=data.groupby(['Company Name'],as_index=False)['Market Cap (USD in Trillions)'].sum().sort_values(by='Market Cap (USD in Trillions)',ascending=False).head(10)\n",
        "sns.barplot(data=value,x='Company Name', y='Market Cap (USD in Trillions)')\n",
        "plt.title('Top Valuable Company')\n",
        "plt.xticks(rotation=90)\n",
        "plt.show()"
      ],
      "metadata": {
        "colab": {
          "base_uri": "https://localhost:8080/",
          "height": 623
        },
        "id": "r3vcaeROsKAJ",
        "outputId": "a790b386-a1a0-40d7-c3d6-2e9516b8fbe0"
      },
      "execution_count": 71,
      "outputs": [
        {
          "output_type": "display_data",
          "data": {
            "text/plain": [
              "<Figure size 1000x500 with 1 Axes>"
            ],
            "image/png": "[encoded data removed]"
          },
          "metadata": {}
        }
      ]
    },
    {
      "cell_type": "markdown",
      "source": [
        "Apple Inc has the highest Market Cap, meaning it is the highest valued company on the stock market among the top 50 list of companies."
      ],
      "metadata": {
        "id": "3C52OLqv3fXo"
      }
    },
    {
      "cell_type": "markdown",
      "source": [
        "##**Summary**"
      ],
      "metadata": {
        "id": "Fr_4F82D6HoH"
      }
    },
    {
      "cell_type": "markdown",
      "source": [
        "* 33 of the top 50 US Tech companies on the list have their headquarters in the state of California.\n",
        "* The companies belong to 8 different sectors and the Software Application sector has the most companies on the list. However, Consumer Electronics brought in the most revenue in the 2022-2023 fiscal year.\n",
        "* Amazon brought in the most revenue and Snowflake inc had the least.\n",
        "* The most valuable company on the market during the 2022-2023 fiscal year is Apple Inc.\n",
        "* Employee Size has no effect on income tax as they have a slight negative correlation of -0.019."
      ],
      "metadata": {
        "id": "jgjX2Zvt8RSe"
      }
    },
    {
      "cell_type": "code",
      "source": [],
      "metadata": {
        "id": "SV6sYTph6gkG"
      },
      "execution_count": 71,
      "outputs": []
    }
  ]
}